{
 "cells": [
  {
   "cell_type": "code",
   "execution_count": 1,
   "metadata": {},
   "outputs": [],
   "source": [
    "import sqlite3\n",
    "import pandas as pd\n",
    "import numpy as np\n",
    "from random import sample, choice, random, shuffle\n",
    "from datetime import datetime, timedelta\n",
    "from time import sleep\n",
    "import matplotlib.pyplot as plt\n",
    "import pickle\n",
    "import re\n",
    "from time import time\n",
    "from scipy.stats import pearsonr\n",
    "from scipy.signal import convolve\n",
    "import urllib.request\n",
    "from urllib.error import HTTPError\n",
    "from sklearn.ensemble import RandomForestClassifier\n",
    "from sklearn.svm import SVC\n",
    "\n",
    "import matplotlib as mpl\n",
    "mpl.rc('image', cmap='gray')"
   ]
  },
  {
   "cell_type": "code",
   "execution_count": 2,
   "metadata": {},
   "outputs": [],
   "source": [
    "def execute_query(query, retval=False):\n",
    "    #create a database connection\n",
    "    conn = sqlite3.connect('videos.db')\n",
    "\n",
    "    #create a cursor\n",
    "    cur = conn.cursor()\n",
    "    \n",
    "    cur.execute(query)\n",
    "    result = cur.fetchall()\n",
    "\n",
    "    #close connection\n",
    "    conn.commit()\n",
    "    conn.close()\n",
    "    \n",
    "    if retval:\n",
    "        return result"
   ]
  },
  {
   "cell_type": "code",
   "execution_count": 3,
   "metadata": {},
   "outputs": [],
   "source": [
    "df = pd.read_csv('sigmoid_data.csv')"
   ]
  },
  {
   "cell_type": "code",
   "execution_count": 4,
   "metadata": {},
   "outputs": [],
   "source": [
    "vid_ids = list(df.video_id.values)"
   ]
  },
  {
   "cell_type": "code",
   "execution_count": 5,
   "metadata": {},
   "outputs": [],
   "source": [
    "formatted_vid_ids_string = ','.join([\"\\\"%s\\\"\"%v for v in vid_ids])"
   ]
  },
  {
   "cell_type": "markdown",
   "metadata": {},
   "source": [
    "## Face Features"
   ]
  },
  {
   "cell_type": "code",
   "execution_count": 6,
   "metadata": {},
   "outputs": [],
   "source": [
    "face_results = execute_query('SELECT VideoID, Data FROM ThumbnailEntities WHERE VideoID IN (%s) AND EntityType = \"face\"'%formatted_vid_ids_string, True)"
   ]
  },
  {
   "cell_type": "code",
   "execution_count": 7,
   "metadata": {},
   "outputs": [],
   "source": [
    "vid_id_to_num_faces = {vid_id: 0 for vid_id in vid_ids}\n",
    "for vid_id, data in face_results:\n",
    "    data_dict = eval(data)\n",
    "    vid_id_to_num_faces[vid_id] += (data_dict['confidence'] > 0.5)"
   ]
  },
  {
   "cell_type": "markdown",
   "metadata": {},
   "source": [
    "## Text Features"
   ]
  },
  {
   "cell_type": "code",
   "execution_count": 8,
   "metadata": {},
   "outputs": [],
   "source": [
    "text_results = execute_query('SELECT VideoID, Data FROM ThumbnailEntities WHERE VideoID IN (%s) AND EntityType = \"text\"'%formatted_vid_ids_string, True)"
   ]
  },
  {
   "cell_type": "code",
   "execution_count": 9,
   "metadata": {},
   "outputs": [],
   "source": [
    "vid_id_to_has_text = {vid_id: 0 for vid_id in vid_ids}\n",
    "for vid_id, data in text_results:\n",
    "    vid_id_to_has_text[vid_id] = 1"
   ]
  },
  {
   "cell_type": "markdown",
   "metadata": {},
   "source": [
    "## Image Features"
   ]
  },
  {
   "cell_type": "code",
   "execution_count": 10,
   "metadata": {},
   "outputs": [],
   "source": [
    "image_results = execute_query('SELECT VideoID, Data FROM ThumbnailEntities WHERE VideoID IN (%s) AND EntityType = \"image\"'%formatted_vid_ids_string, True)"
   ]
  },
  {
   "cell_type": "code",
   "execution_count": 11,
   "metadata": {},
   "outputs": [],
   "source": [
    "vid_id_to_dom_color = {vid_id: [None, None, None, -1] for vid_id in vid_ids}\n",
    "for vid_id, data in image_results:\n",
    "    score = float(re.findall(\"'score': (\\d+.\\d+)\", data)[0])\n",
    "    if score > vid_id_to_dom_color[vid_id][3]:   \n",
    "        try:\n",
    "            red = float(re.findall('red: (\\d+.\\d+)', data)[0])\n",
    "            green = float(re.findall('green: (\\d+.\\d+)', data)[0])\n",
    "            blue = float(re.findall('blue: (\\d+.\\d+)', data)[0])\n",
    "        except:\n",
    "            red,blue,green = None, None, None\n",
    "        vid_id_to_dom_color[vid_id] = [red, green, blue, score]"
   ]
  },
  {
   "cell_type": "markdown",
   "metadata": {},
   "source": [
    "## Simplicity"
   ]
  },
  {
   "cell_type": "code",
   "execution_count": 31,
   "metadata": {},
   "outputs": [],
   "source": [
    "thumbnail_info = execute_query('SELECT VideoID, ThumbnailURL FROM Videos WHERE VideoID IN (%s)'%formatted_vid_ids_string, True)"
   ]
  },
  {
   "cell_type": "code",
   "execution_count": 111,
   "metadata": {},
   "outputs": [],
   "source": [
    "edge_kernel = np.ones((3,3)) * (-1/8)\n",
    "edge_kernel[1,1] = 1"
   ]
  },
  {
   "cell_type": "code",
   "execution_count": 37,
   "metadata": {},
   "outputs": [
    {
     "name": "stdout",
     "output_type": "stream",
     "text": [
      "0Efxhq-fnVQ https://i.ytimg.com/vi/0Efxhq-fnVQ/hqdefault.jpg\n",
      "4xlLCbJYOHI https://i.ytimg.com/vi/4xlLCbJYOHI/hqdefault.jpg\n",
      "7_Js8h709Dw https://i9.ytimg.com/vi/7_Js8h709Dw/hqdefault.jpg?sqp=CJDiuvcF&rs=AOn4CLDmXRfaDkhR68MWL0JJcHFeAOoLyA\n",
      "8ps_JEW42xs https://i9.ytimg.com/vi/8ps_JEW42xs/hqdefault.jpg?sqp=CJCCkvYF&rs=AOn4CLCxZia7C1ZiRGsocpyXgYl0oOaDRQ\n",
      "DkyM93Wgh_0 https://i9.ytimg.com/vi/DkyM93Wgh_0/hqdefault.jpg?sqp=CICIvvcF&rs=AOn4CLBex2uaP6DAWgzed1xnh4U0QRkgXQ\n",
      "Ed6CSJbyVak https://i9.ytimg.com/vi/Ed6CSJbyVak/hqdefault.jpg?sqp=CMCr4PcF&rs=AOn4CLCdBh2q4g_YAr3_2_Ea2MCjyMUEiw\n",
      "GpGq6VAUR8U https://i.ytimg.com/vi/GpGq6VAUR8U/hqdefault.jpg\n",
      "HAJey9-Q8js https://i9.ytimg.com/vi/HAJey9-Q8js/hqdefault.jpg?sqp=CKDz3_cF&rs=AOn4CLAyC1IEaJXtgWMy3WxSI0s88O5ZWw\n",
      "KTKAp9Q3yWg https://i9.ytimg.com/vi/KTKAp9Q3yWg/hqdefault.jpg?sqp=CJCkvvcF&rs=AOn4CLC2A6YdNV6nOSKe4SVuNuv2681u4A\n",
      "NKHQiN-08S8 https://i9.ytimg.com/vi/NKHQiN-08S8/hqdefault.jpg?sqp=CLDfi_cF&rs=AOn4CLC8re1o8ty-DuXeQytHz73kfwHEQg\n",
      "Yz3mQhuMACs https://i.ytimg.com/vi/Yz3mQhuMACs/hqdefault.jpg\n",
      "g7BXjvn2_dY https://i.ytimg.com/vi/g7BXjvn2_dY/hqdefault.jpg\n",
      "sJdSVmYkliY https://i.ytimg.com/vi/sJdSVmYkliY/hqdefault.jpg\n",
      "xyQn8cNOP78 https://i9.ytimg.com/vi/xyQn8cNOP78/hqdefault.jpg?sqp=COCtkfYF&rs=AOn4CLBRYwLoUBc2itFYzgi1H63sEE2Kuw\n",
      "zhNVJ8lmrmM https://i.ytimg.com/vi/zhNVJ8lmrmM/hqdefault.jpg\n"
     ]
    }
   ],
   "source": [
    "thresh = 0.25\n",
    "\n",
    "vid_id_to_pct_edges = {}\n",
    "\n",
    "for vid_id, thumbnail_url in thumbnail_info:\n",
    "    try:\n",
    "        urllib.request.urlretrieve(thumbnail_url, \"working_thumbnail.jpg\")\n",
    "    except HTTPError:\n",
    "        print(vid_id, thumbnail_url)\n",
    "        continue\n",
    "    img = plt.imread('working_thumbnail.jpg') / 255\n",
    "    img = np.mean(img, axis=2)\n",
    "    edge_detected = abs(convolve(img, edge_kernel, mode='same'))\n",
    "    pct_edges = np.mean(edge_detected > 0.25)\n",
    "    vid_id_to_pct_edges[vid_id] = pct_edges"
   ]
  },
  {
   "cell_type": "code",
   "execution_count": 163,
   "metadata": {},
   "outputs": [],
   "source": [
    "data = []\n",
    "for vid_id in vid_ids:\n",
    "    curr_data = []\n",
    "    curr_data.append(vid_id)\n",
    "    curr_data.append(vid_id_to_num_faces[vid_id])\n",
    "    curr_data.append(vid_id_to_has_text[vid_id])\n",
    "    curr_data.append(vid_id_to_dom_color[vid_id][0])\n",
    "    curr_data.append(vid_id_to_dom_color[vid_id][1])\n",
    "    curr_data.append(vid_id_to_dom_color[vid_id][2])\n",
    "    curr_data.append(vid_id_to_pct_edges[vid_id] if vid_id in vid_id_to_pct_edges else None)\n",
    "    data.append(curr_data)"
   ]
  },
  {
   "cell_type": "code",
   "execution_count": 164,
   "metadata": {},
   "outputs": [],
   "source": [
    "df_thumbnail_features = pd.DataFrame(columns=['video_id', 'num_faces', 'has_text', 'red', 'green', 'blue', 'pct_edges'], data=data)"
   ]
  },
  {
   "cell_type": "code",
   "execution_count": 165,
   "metadata": {},
   "outputs": [],
   "source": [
    "df_thumbnail_features.to_csv('thumbnail_features.csv', index=False)"
   ]
  },
  {
   "cell_type": "markdown",
   "metadata": {},
   "source": [
    "# Title Features"
   ]
  },
  {
   "cell_type": "code",
   "execution_count": 32,
   "metadata": {},
   "outputs": [],
   "source": [
    "title_info = execute_query('SELECT VideoID, Title FROM Videos WHERE VideoID IN (%s)'%formatted_vid_ids_string, True)"
   ]
  },
  {
   "cell_type": "code",
   "execution_count": 33,
   "metadata": {},
   "outputs": [],
   "source": [
    "data = []\n",
    "first_person_nouns = ['i', 'me', 'my', 'mine', 'we', 'us', 'our', 'ours']\n",
    "personal_nouns = ['i', 'me', 'my', 'mine', 'we', 'us', 'our', 'ours', 'you', 'your', 'yours', 'he', 'she', 'him', 'her', 'his', 'hers', 'they', 'them', 'their', 'theirs']\n",
    "\n",
    "for vid_id, title in title_info:\n",
    "    curr_data = []\n",
    "    curr_data.append(vid_id)\n",
    "    curr_data.append(title)\n",
    "    curr_data.append(len(title.split(' ')))\n",
    "    curr_data.append(len(title))\n",
    "    curr_data.append(int(title.replace(' ','')[-1] == '?'))\n",
    "    curr_data.append(int(title.replace(' ','')[-1] == '!'))\n",
    "    curr_data.append(int(len([w for w in title.lower().split(' ') if w in first_person_nouns]) > 0))\n",
    "    curr_data.append(int(len([w for w in title.lower().split(' ') if w in personal_nouns]) > 0))\n",
    "    data.append(curr_data)\n",
    "df_title_features = pd.DataFrame(columns=['video_id', 'title', 'num_words', 'num_chars', 'ends_in_question', 'ends_in_exclamation', 'contains_first_person', 'contains_personal_noun'], data=data)"
   ]
  },
  {
   "cell_type": "code",
   "execution_count": 34,
   "metadata": {},
   "outputs": [
    {
     "data": {
      "text/plain": [
       "num_words                  9.333150\n",
       "num_chars                 51.724574\n",
       "ends_in_question           0.040132\n",
       "ends_in_exclamation        0.110500\n",
       "contains_first_person      0.146234\n",
       "contains_personal_noun     0.246289\n",
       "dtype: float64"
      ]
     },
     "execution_count": 34,
     "metadata": {},
     "output_type": "execute_result"
    }
   ],
   "source": [
    "df_title_features.mean()"
   ]
  },
  {
   "cell_type": "code",
   "execution_count": 35,
   "metadata": {},
   "outputs": [],
   "source": [
    "df_title_features.to_csv('title_features.csv', index=False)"
   ]
  },
  {
   "cell_type": "markdown",
   "metadata": {},
   "source": [
    "# Other Features"
   ]
  },
  {
   "cell_type": "code",
   "execution_count": 36,
   "metadata": {},
   "outputs": [],
   "source": [
    "def str_to_duration(s):\n",
    "    total_seconds = 0\n",
    "    \n",
    "    hours = re.findall(r'(\\d+)H', s)\n",
    "    if len(hours) > 0:\n",
    "        total_seconds += int(hours[0]) * 3600\n",
    "        \n",
    "    minutes = re.findall(r'(\\d+)M', s)\n",
    "    if len(minutes) > 0:\n",
    "        total_seconds += int(minutes[0]) * 60\n",
    "        \n",
    "    seconds = re.findall(r'(\\d+)S', s)\n",
    "    if len(seconds) > 0:\n",
    "        total_seconds += int(seconds[0])\n",
    "        \n",
    "    return total_seconds"
   ]
  },
  {
   "cell_type": "code",
   "execution_count": 37,
   "metadata": {},
   "outputs": [],
   "source": [
    "duration_info = execute_query('SELECT VideoID, Duration FROM Videos WHERE VideoID IN (%s)'%formatted_vid_ids_string, True)"
   ]
  },
  {
   "cell_type": "code",
   "execution_count": 38,
   "metadata": {},
   "outputs": [],
   "source": [
    "vid_id_to_duration = {vid_id: str_to_duration(d) for vid_id, d in duration_info}"
   ]
  },
  {
   "cell_type": "code",
   "execution_count": 12,
   "metadata": {},
   "outputs": [],
   "source": [
    "df_past_vids = pd.read_csv('vids_and_past_vids.csv')"
   ]
  },
  {
   "cell_type": "code",
   "execution_count": 40,
   "metadata": {},
   "outputs": [],
   "source": [
    "vid_id_to_hours_since_last_vid = dict(zip(df_past_vids.video_id, df_past_vids.hours_between_last_and_curr))"
   ]
  },
  {
   "cell_type": "code",
   "execution_count": 41,
   "metadata": {},
   "outputs": [],
   "source": [
    "data = []\n",
    "for vid_id in vid_ids:\n",
    "    data.append([vid_id, vid_id_to_duration[vid_id], vid_id_to_hours_since_last_vid[vid_id]])\n",
    "df_other_features = pd.DataFrame(columns=['video_id', 'duration', 'hours_since_last_vid'], data=data)"
   ]
  },
  {
   "cell_type": "code",
   "execution_count": 42,
   "metadata": {},
   "outputs": [],
   "source": [
    "df_other_features.to_csv('other_features.csv', index=False)"
   ]
  },
  {
   "cell_type": "code",
   "execution_count": 43,
   "metadata": {},
   "outputs": [
    {
     "data": {
      "text/html": [
       "<div>\n",
       "<style scoped>\n",
       "    .dataframe tbody tr th:only-of-type {\n",
       "        vertical-align: middle;\n",
       "    }\n",
       "\n",
       "    .dataframe tbody tr th {\n",
       "        vertical-align: top;\n",
       "    }\n",
       "\n",
       "    .dataframe thead th {\n",
       "        text-align: right;\n",
       "    }\n",
       "</style>\n",
       "<table border=\"1\" class=\"dataframe\">\n",
       "  <thead>\n",
       "    <tr style=\"text-align: right;\">\n",
       "      <th></th>\n",
       "      <th>video_id</th>\n",
       "      <th>duration</th>\n",
       "      <th>hours_since_last_vid</th>\n",
       "    </tr>\n",
       "  </thead>\n",
       "  <tbody>\n",
       "    <tr>\n",
       "      <th>0</th>\n",
       "      <td>KrC2NqZh-9U</td>\n",
       "      <td>871</td>\n",
       "      <td>24.00</td>\n",
       "    </tr>\n",
       "    <tr>\n",
       "      <th>1</th>\n",
       "      <td>z87xwoms6Os</td>\n",
       "      <td>836</td>\n",
       "      <td>48.00</td>\n",
       "    </tr>\n",
       "    <tr>\n",
       "      <th>2</th>\n",
       "      <td>fH3JRGiR-bg</td>\n",
       "      <td>724</td>\n",
       "      <td>48.00</td>\n",
       "    </tr>\n",
       "    <tr>\n",
       "      <th>3</th>\n",
       "      <td>7Wf3qK6SNEw</td>\n",
       "      <td>659</td>\n",
       "      <td>24.00</td>\n",
       "    </tr>\n",
       "    <tr>\n",
       "      <th>4</th>\n",
       "      <td>93Q7jiDLHIY</td>\n",
       "      <td>748</td>\n",
       "      <td>48.00</td>\n",
       "    </tr>\n",
       "    <tr>\n",
       "      <th>...</th>\n",
       "      <td>...</td>\n",
       "      <td>...</td>\n",
       "      <td>...</td>\n",
       "    </tr>\n",
       "    <tr>\n",
       "      <th>1814</th>\n",
       "      <td>6RAdnCwbUrg</td>\n",
       "      <td>507</td>\n",
       "      <td>48.50</td>\n",
       "    </tr>\n",
       "    <tr>\n",
       "      <th>1815</th>\n",
       "      <td>C9lbKZqCdhQ</td>\n",
       "      <td>578</td>\n",
       "      <td>48.00</td>\n",
       "    </tr>\n",
       "    <tr>\n",
       "      <th>1816</th>\n",
       "      <td>YeYOp8NhmuA</td>\n",
       "      <td>398</td>\n",
       "      <td>47.25</td>\n",
       "    </tr>\n",
       "    <tr>\n",
       "      <th>1817</th>\n",
       "      <td>KUjtuQOtWdI</td>\n",
       "      <td>503</td>\n",
       "      <td>48.25</td>\n",
       "    </tr>\n",
       "    <tr>\n",
       "      <th>1818</th>\n",
       "      <td>QlwbYOyf3ag</td>\n",
       "      <td>547</td>\n",
       "      <td>24.25</td>\n",
       "    </tr>\n",
       "  </tbody>\n",
       "</table>\n",
       "<p>1819 rows × 3 columns</p>\n",
       "</div>"
      ],
      "text/plain": [
       "         video_id  duration  hours_since_last_vid\n",
       "0     KrC2NqZh-9U       871                 24.00\n",
       "1     z87xwoms6Os       836                 48.00\n",
       "2     fH3JRGiR-bg       724                 48.00\n",
       "3     7Wf3qK6SNEw       659                 24.00\n",
       "4     93Q7jiDLHIY       748                 48.00\n",
       "...           ...       ...                   ...\n",
       "1814  6RAdnCwbUrg       507                 48.50\n",
       "1815  C9lbKZqCdhQ       578                 48.00\n",
       "1816  YeYOp8NhmuA       398                 47.25\n",
       "1817  KUjtuQOtWdI       503                 48.25\n",
       "1818  QlwbYOyf3ag       547                 24.25\n",
       "\n",
       "[1819 rows x 3 columns]"
      ]
     },
     "execution_count": 43,
     "metadata": {},
     "output_type": "execute_result"
    }
   ],
   "source": [
    "df_other_features"
   ]
  },
  {
   "cell_type": "markdown",
   "metadata": {},
   "source": [
    "## Join all together"
   ]
  },
  {
   "cell_type": "code",
   "execution_count": 5,
   "metadata": {},
   "outputs": [],
   "source": [
    "df_thumbnail_features = pd.read_csv('thumbnail_features.csv')\n",
    "df_title_features = pd.read_csv('title_features.csv')\n",
    "df_other_features = pd.read_csv('other_features.csv')"
   ]
  },
  {
   "cell_type": "code",
   "execution_count": 6,
   "metadata": {},
   "outputs": [],
   "source": [
    "df_joined = df_thumbnail_features.merge(df_title_features, on='video_id')\n",
    "df_joined = df_joined.merge(df_other_features, on='video_id')"
   ]
  },
  {
   "cell_type": "code",
   "execution_count": 7,
   "metadata": {},
   "outputs": [
    {
     "data": {
      "text/plain": [
       "1819"
      ]
     },
     "execution_count": 7,
     "metadata": {},
     "output_type": "execute_result"
    }
   ],
   "source": [
    "len(df_joined)"
   ]
  },
  {
   "cell_type": "code",
   "execution_count": 7,
   "metadata": {},
   "outputs": [
    {
     "ename": "NameError",
     "evalue": "name 'df_joined' is not defined",
     "output_type": "error",
     "traceback": [
      "\u001b[1;31m--------------------------------------------------------\u001b[0m",
      "\u001b[1;31mNameError\u001b[0m              Traceback (most recent call last)",
      "\u001b[1;32m<ipython-input-7-b6e7eff883c8>\u001b[0m in \u001b[0;36m<module>\u001b[1;34m\u001b[0m\n\u001b[1;32m----> 1\u001b[1;33m \u001b[0mdf_joined\u001b[0m\u001b[1;33m.\u001b[0m\u001b[0mto_csv\u001b[0m\u001b[1;33m(\u001b[0m\u001b[1;34m'all_features.csv'\u001b[0m\u001b[1;33m,\u001b[0m \u001b[0mindex\u001b[0m\u001b[1;33m=\u001b[0m\u001b[1;32mFalse\u001b[0m\u001b[1;33m)\u001b[0m\u001b[1;33m\u001b[0m\u001b[1;33m\u001b[0m\u001b[0m\n\u001b[0m",
      "\u001b[1;31mNameError\u001b[0m: name 'df_joined' is not defined"
     ]
    }
   ],
   "source": [
    "#df_joined.to_csv('all_features.csv', index=False)"
   ]
  },
  {
   "cell_type": "markdown",
   "metadata": {},
   "source": [
    "# Prob Method"
   ]
  },
  {
   "cell_type": "code",
   "execution_count": 13,
   "metadata": {},
   "outputs": [],
   "source": [
    "df_joined = pd.read_csv('all_features.csv')"
   ]
  },
  {
   "cell_type": "code",
   "execution_count": 14,
   "metadata": {},
   "outputs": [],
   "source": [
    "features = [f for f in df_joined.columns if f not in ['channel_id', 'video_id', 'a', 'b', 'mape', 'title']]\n",
    "discrete_feaures = ['has_text', 'ends_in_question', 'ends_in_exclamation', 'contains_first_person', 'contains_personal_noun']\n",
    "cts_features = [f for f in features if f not in discrete_feaures]"
   ]
  },
  {
   "cell_type": "code",
   "execution_count": 15,
   "metadata": {},
   "outputs": [],
   "source": [
    "df_joined_valid = df_joined[(~np.isnan(df_joined.b))&(~np.isinf(df_joined.b))&(df_joined.mape > 0)&(df_joined.mape < 20)&(~np.isinf(df_joined.mape))]"
   ]
  },
  {
   "cell_type": "code",
   "execution_count": 16,
   "metadata": {},
   "outputs": [],
   "source": [
    "channel_num_videos_condition = df_joined_valid.groupby('channel_id').video_id.count().sort_values() >= 20\n",
    "valid_channels = channel_num_videos_condition[channel_num_videos_condition].index"
   ]
  },
  {
   "cell_type": "code",
   "execution_count": 17,
   "metadata": {},
   "outputs": [],
   "source": [
    "df_joined_valid = df_joined_valid[df_joined_valid.channel_id.isin(valid_channels)]"
   ]
  },
  {
   "cell_type": "code",
   "execution_count": 18,
   "metadata": {},
   "outputs": [],
   "source": [
    "last_vid_ids = []\n",
    "for vid_id in df_joined_valid.video_id:\n",
    "    sub_df = df_past_vids[df_past_vids.video_id == vid_id]\n",
    "    if len(sub_df) == 0:\n",
    "        last_vid_ids.append(None)\n",
    "        continue\n",
    "    last_vid_ids.append(sub_df.last_video_id.iloc[0])\n",
    "df_joined_valid['last_video_id'] = last_vid_ids"
   ]
  },
  {
   "cell_type": "code",
   "execution_count": 19,
   "metadata": {},
   "outputs": [],
   "source": [
    "numerator = np.log((1+0.9)/(1-0.9))\n",
    "\n",
    "df_joined_valid['plateau'] = df_joined_valid.a / 2\n",
    "df_joined_valid['time_90'] = numerator / df_joined_valid.b"
   ]
  },
  {
   "cell_type": "code",
   "execution_count": 20,
   "metadata": {},
   "outputs": [],
   "source": [
    "metric_channel_id_to_median = df_joined_valid.groupby('channel_id').median()[['plateau', 'time_90']].to_dict()"
   ]
  },
  {
   "cell_type": "code",
   "execution_count": 21,
   "metadata": {},
   "outputs": [],
   "source": [
    "i_plateau = []\n",
    "i_time_90 = []\n",
    "\n",
    "for i,row in df_joined_valid.iterrows():\n",
    "    i_plateau.append(int(row.plateau > metric_channel_id_to_median['plateau'][row.channel_id]))\n",
    "    i_time_90.append(int(row.time_90 > metric_channel_id_to_median['time_90'][row.channel_id]))\n",
    "    \n",
    "df_joined_valid['i_plateau'] = i_plateau\n",
    "df_joined_valid['i_time_90'] = i_time_90"
   ]
  },
  {
   "cell_type": "code",
   "execution_count": 22,
   "metadata": {},
   "outputs": [],
   "source": [
    "vid_ids_with_last = []\n",
    "last_i_plateau = []\n",
    "last_i_time_90 = []\n",
    "for i,row in df_joined_valid.iterrows():\n",
    "    if row.last_video_id in df_joined_valid.video_id.values:\n",
    "        vid_ids_with_last.append(row.video_id)\n",
    "        sub_df = df_joined_valid[df_joined_valid.video_id == row.last_video_id]\n",
    "        last_i_plateau.append(sub_df.i_plateau.iloc[0])\n",
    "        last_i_time_90.append(sub_df.i_time_90.iloc[0])\n",
    "        \n",
    "df_joined_valid = df_joined_valid[df_joined_valid.video_id.isin(vid_ids_with_last)].reset_index(drop=True)\n",
    "df_joined_valid['i_plateau_last'] = last_i_plateau\n",
    "df_joined_valid['i_time_90_last'] = last_i_time_90"
   ]
  },
  {
   "cell_type": "code",
   "execution_count": 23,
   "metadata": {},
   "outputs": [],
   "source": [
    "df_joined_valid = df_joined_valid.dropna()"
   ]
  },
  {
   "cell_type": "code",
   "execution_count": 24,
   "metadata": {},
   "outputs": [],
   "source": [
    "feat_to_channel_to_median_dict = df_joined_valid.groupby('channel_id').median()[cts_features].to_dict()"
   ]
  },
  {
   "cell_type": "code",
   "execution_count": 25,
   "metadata": {},
   "outputs": [],
   "source": [
    "for f in cts_features:\n",
    "    new_feats = []\n",
    "    for idx,data in df_joined_valid[['channel_id', f]].iterrows():\n",
    "        new_feats.append(int(data[f] > feat_to_channel_to_median_dict[f][data.channel_id]))\n",
    "    df_joined_valid[f] = new_feats             "
   ]
  },
  {
   "cell_type": "code",
   "execution_count": 26,
   "metadata": {},
   "outputs": [],
   "source": [
    "def k_l_divergence(d0,d1):\n",
    "    if sum(d0) < .98 or sum(d0) > 1.02 or sum(d1) < .98 or sum(d1) > 1.02:\n",
    "        print(sum(d0), sum(d1))\n",
    "        print(d0)\n",
    "        print(d1)\n",
    "        return\n",
    "    \n",
    "    if 0 in d0:\n",
    "        return -1\n",
    "    \n",
    "    kl_div = 0\n",
    "    \n",
    "    for idx in range(len(d1)):\n",
    "        kl_div += d1[idx]*np.log(d1[idx]/d0[idx])\n",
    "    return kl_div"
   ]
  },
  {
   "cell_type": "code",
   "execution_count": 27,
   "metadata": {},
   "outputs": [],
   "source": [
    "def b_dist(d0,d1):\n",
    "    if sum(d0) < .98 or sum(d0) > 1.02 or sum(d1) < .98 or sum(d1) > 1.02:\n",
    "        print(sum(d0), sum(d1))\n",
    "        print(d0)\n",
    "        print(d1)\n",
    "        return\n",
    "    \n",
    "    add = 0\n",
    "    \n",
    "    for idx in range(len(d1)):\n",
    "        add += (d0[idx]*d1[idx])**.5\n",
    "    return -np.log(add)"
   ]
  },
  {
   "cell_type": "code",
   "execution_count": 28,
   "metadata": {},
   "outputs": [],
   "source": [
    "def abs_dist(d0,d1):\n",
    "    if sum(d0) < .98 or sum(d0) > 1.02 or sum(d1) < .98 or sum(d1) > 1.02:\n",
    "        print(sum(d0), sum(d1))\n",
    "        print(d0)\n",
    "        print(d1)\n",
    "        return\n",
    "    \n",
    "    return sum([abs(p0-p1) for p0,p1 in zip(d0,d1)])"
   ]
  },
  {
   "cell_type": "code",
   "execution_count": 29,
   "metadata": {},
   "outputs": [],
   "source": [
    "def make_prediction(vals, classifier):\n",
    "    vals = tuple(vals)\n",
    "    if classifier[all_keys.index(vals)] > 1:\n",
    "        return 1\n",
    "    elif classifier[all_keys.index(vals)] < 1:\n",
    "        return 0\n",
    "    return None"
   ]
  },
  {
   "cell_type": "code",
   "execution_count": 30,
   "metadata": {},
   "outputs": [],
   "source": [
    "all_keys = [(0,0,0), (0,0,1), (0,1,0), (1,0,0), (1,0,1), (1,1,0), (0,1,1), (1,1,1)]\n",
    "\n",
    "def run_cross_validation(k, dist_metric_name, df_joined_valid, metric, feature_pair=None):\n",
    "\n",
    "    #shuffle data and split into sets\n",
    "    df_joined_valid = df_joined_valid.sample(frac=1)\n",
    "    test_len = len(df_joined_valid) // k\n",
    "    data_sets = [df_joined_valid.iloc[i:i+test_len] for i in range(k)]\n",
    "\n",
    "    #store the accuracy values and features\n",
    "    metric_vals = {i: [[], [], []] for i in range(k)}\n",
    "    \n",
    "    feature_pair_classifiers = []\n",
    "\n",
    "    #for each test set...\n",
    "    for i in range(k):\n",
    "        #get the test set\n",
    "        test_set = data_sets[i]\n",
    "        \n",
    "        #get the train set\n",
    "        train_set = pd.concat([data_sets[j] for j in range(k) if j!=i])\n",
    "\n",
    "        #this will store the informatiion about each feature pair\n",
    "        dist_feats = [[], [], []]\n",
    "\n",
    "        #loop over all feature pairs\n",
    "        for idx,F1 in enumerate(features):\n",
    "            for F2 in features[idx+1:]:\n",
    "                \n",
    "                #subset the train set\n",
    "                curr_train_set = train_set[['i_%s'%metric, 'i_%s_last'%metric, F1, F2]]\n",
    "\n",
    "                metric_0_df = curr_train_set[curr_train_set['i_%s'%metric] == 0][['i_%s_last'%metric, F1, F2]]\n",
    "                metric_0_df['n'] = 1\n",
    "                metric_1_df = curr_train_set[curr_train_set['i_%s'%metric] == 1][['i_%s_last'%metric, F1, F2]]\n",
    "                metric_1_df['n'] = 1\n",
    "\n",
    "                gb_0_df = metric_0_df.groupby(['i_%s_last'%metric, F1, F2]).count() / len(metric_0_df)\n",
    "                gb_1_df = metric_1_df.groupby(['i_%s_last'%metric, F1, F2]).count() / len(metric_1_df)\n",
    "\n",
    "                probs_0 = dict(zip(gb_0_df.index, gb_0_df.n.values))\n",
    "                probs_1 = dict(zip(gb_1_df.index, gb_1_df.n.values))\n",
    "\n",
    "                p0 = np.array([probs_0[k] if k in probs_0 else 0 for k in all_keys])\n",
    "                p1 = np.array([probs_1[k] if k in probs_1 else 0 for k in all_keys])\n",
    "                classifier = p1/p0\n",
    "\n",
    "                distr_dist_vals = {'kl': k_l_divergence(p0, p1), 'b': b_dist(p0, p1), 'abs': abs_dist(p0, p1)}\n",
    "                distr_dist_val = distr_dist_vals[dist_metric_name]\n",
    "\n",
    "                dist_feats[0].append(distr_dist_val)\n",
    "                dist_feats[1].append((F1,F2))\n",
    "                dist_feats[2].append(classifier)\n",
    "                \n",
    "                if [F1,F2] == feature_pair or [F2,F1] == feature_pair:\n",
    "                    feature_pair_classifiers.append(classifier)\n",
    "                    \n",
    "        if feature_pair == None:\n",
    "\n",
    "            for j in range(len(dist_feats[0])):\n",
    "                data = [l[j] for l in dist_feats]\n",
    "                val = data[0]\n",
    "                feats = data[1]\n",
    "                classifier = data[2]\n",
    "\n",
    "                #further isolate test set columns\n",
    "                curr_test_set = test_set[['i_%s'%metric, 'i_%s_last'%metric, *feats]]\n",
    "\n",
    "                predictions = curr_test_set.apply(lambda row: make_prediction([row['i_%s_last'%metric], row[feats[0]], row[feats[1]]], classifier), 1)\n",
    "                actual_vals = curr_test_set['i_%s'%metric]\n",
    "\n",
    "                acc = np.mean([pred==true for pred,true in zip(predictions,actual_vals) if pred != None])\n",
    "                metric_vals[i][0].append(acc)\n",
    "                metric_vals[i][1].append(feats)\n",
    "                metric_vals[i][2].append(classifier)\n",
    "                \n",
    "    if feature_pair != None:\n",
    "        return feature_pair_classifiers\n",
    "    \n",
    "    return metric_vals"
   ]
  },
  {
   "cell_type": "code",
   "execution_count": 334,
   "metadata": {
    "scrolled": false
   },
   "outputs": [
    {
     "name": "stdout",
     "output_type": "stream",
     "text": [
      "1/100\n"
     ]
    },
    {
     "name": "stderr",
     "output_type": "stream",
     "text": [
      "C:\\Users\\ritvik\\Anaconda3\\lib\\site-packages\\ipykernel_launcher.py:14: RuntimeWarning: divide by zero encountered in log\n",
      "  \n",
      "C:\\Users\\ritvik\\Anaconda3\\lib\\site-packages\\ipykernel_launcher.py:14: RuntimeWarning: invalid value encountered in double_scalars\n",
      "  \n",
      "C:\\Users\\ritvik\\Anaconda3\\lib\\site-packages\\ipykernel_launcher.py:46: RuntimeWarning: divide by zero encountered in true_divide\n",
      "C:\\Users\\ritvik\\Anaconda3\\lib\\site-packages\\ipykernel_launcher.py:46: RuntimeWarning: invalid value encountered in true_divide\n"
     ]
    },
    {
     "name": "stdout",
     "output_type": "stream",
     "text": [
      "0.6827831715210355\n",
      "2/100\n",
      "0.6671521035598706\n",
      "3/100\n",
      "0.6530744336569579\n",
      "4/100\n",
      "0.6300774387424873\n",
      "5/100\n",
      "0.6650485436893204\n",
      "6/100\n",
      "0.6854368932038836\n",
      "7/100\n",
      "0.6457042687625212\n",
      "8/100\n",
      "0.635953400777787\n",
      "9/100\n",
      "0.6689945572227126\n",
      "10/100\n",
      "0.6441323778702419\n",
      "11/100\n",
      "0.6627022653721684\n",
      "12/100\n",
      "0.7058252427184465\n",
      "13/100\n",
      "0.647621359223301\n",
      "14/100\n",
      "0.6902912621359224\n",
      "15/100\n",
      "0.6606796116504855\n",
      "16/100\n",
      "0.6810679611650485\n",
      "17/100\n",
      "0.6352450300508554\n",
      "18/100\n",
      "0.6549676375404531\n",
      "19/100\n",
      "0.691747572815534\n",
      "20/100\n",
      "0.6685275080906149\n",
      "21/100\n",
      "0.6539967637540454\n",
      "22/100\n",
      "0.6474919093851133\n",
      "23/100\n",
      "0.6254018112099208\n",
      "24/100\n",
      "0.6396440129449837\n",
      "25/100\n",
      "0.6800970873786408\n",
      "26/100\n",
      "0.6757281553398059\n",
      "27/100\n",
      "0.670873786407767\n",
      "28/100\n",
      "0.6659558483587609\n",
      "29/100\n",
      "0.6470064724919095\n",
      "30/100\n",
      "0.626609647095084\n",
      "31/100\n",
      "0.6412532747726922\n",
      "32/100\n",
      "0.6680582524271845\n",
      "33/100\n",
      "0.6625439204808137\n",
      "34/100\n",
      "0.6571197411003237\n",
      "35/100\n",
      "0.6674252581291417\n",
      "36/100\n",
      "0.6496763754045307\n",
      "37/100\n",
      "0.6572815533980583\n",
      "38/100\n",
      "0.6387594390507013\n",
      "39/100\n",
      "0.6590614886731393\n",
      "40/100\n",
      "0.6795423023578364\n",
      "41/100\n",
      "0.656005547850208\n",
      "42/100\n",
      "0.6668284789644014\n",
      "43/100\n",
      "0.6362459546925566\n",
      "44/100\n",
      "0.6112417038477335\n",
      "45/100\n",
      "0.6478848821081831\n",
      "46/100\n",
      "0.6383188413528218\n",
      "47/100\n",
      "0.6250694963073604\n",
      "48/100\n",
      "0.6417475728155341\n",
      "49/100\n",
      "0.6492233009708738\n",
      "50/100\n",
      "0.6360725843735553\n",
      "51/100\n",
      "0.6504692556634305\n",
      "52/100\n",
      "0.6990291262135921\n",
      "53/100\n",
      "0.6650485436893204\n",
      "54/100\n",
      "0.6554900601017107\n",
      "55/100\n",
      "0.6601941747572816\n",
      "56/100\n",
      "0.6582028166008749\n",
      "57/100\n",
      "0.6538025889967638\n",
      "58/100\n",
      "0.6559546925566343\n",
      "59/100\n",
      "0.6688511326860842\n",
      "60/100\n",
      "0.6400899557324458\n",
      "61/100\n",
      "0.6649676375404531\n",
      "62/100\n",
      "0.6724595469255664\n",
      "63/100\n",
      "0.7127831715210357\n",
      "64/100\n",
      "0.6710355987055017\n",
      "65/100\n",
      "0.6850659696290765\n",
      "66/100\n",
      "0.6577877947295423\n",
      "67/100\n",
      "0.6377777777777779\n",
      "68/100\n",
      "0.6310878199470432\n",
      "69/100\n",
      "0.6825242718446602\n",
      "70/100\n",
      "0.6504854368932039\n",
      "71/100\n",
      "0.641084142394822\n",
      "72/100\n",
      "0.6720388349514562\n",
      "73/100\n",
      "0.6807882570503929\n",
      "74/100\n",
      "0.6564031437817845\n",
      "75/100\n",
      "0.6707928802588997\n",
      "76/100\n",
      "0.7009061488673141\n",
      "77/100\n",
      "0.6643203883495146\n",
      "78/100\n",
      "0.6384848484848484\n",
      "79/100\n",
      "0.6661003236245955\n",
      "80/100\n",
      "0.6740291262135922\n",
      "81/100\n",
      "0.6677723840345201\n",
      "82/100\n",
      "0.6610032362459547\n",
      "83/100\n",
      "0.6406869667549279\n",
      "84/100\n",
      "0.7105987055016181\n",
      "85/100\n",
      "0.668323036187114\n",
      "86/100\n",
      "0.6403559870550162\n",
      "87/100\n",
      "0.7061488673139159\n",
      "88/100\n",
      "0.6700647249190939\n",
      "89/100\n",
      "0.6722422561257513\n",
      "90/100\n",
      "0.6397518878101403\n",
      "91/100\n",
      "0.6577669902912622\n",
      "92/100\n",
      "0.6786407766990292\n",
      "93/100\n",
      "0.6457605177993528\n",
      "94/100\n",
      "0.6674757281553398\n",
      "95/100\n",
      "0.7142394822006473\n",
      "96/100\n",
      "0.6329288025889968\n",
      "97/100\n",
      "0.659854368932039\n",
      "98/100\n",
      "0.6277161349976883\n",
      "99/100\n",
      "0.6810679611650486\n",
      "100/100\n",
      "0.6632219910617969\n"
     ]
    }
   ],
   "source": [
    "n = 100\n",
    "\n",
    "metric = 'time_90'\n",
    "\n",
    "best_feat_pairs = []\n",
    "avg_accs = []\n",
    "\n",
    "for i in range(n):\n",
    "    print('%s/%s'%(i+1,n))\n",
    "    metric_vals = run_cross_validation(10, 'abs', df_joined_valid, metric)\n",
    "    \n",
    "    best_feat_mask = [np.where(np.array(l[0]) > np.max(l[0])-0.01)[0] for l in metric_vals.values()]\n",
    "    avg_acc = np.mean([np.mean(np.array(l[0])[best_feat_mask[j]]) for j,l in enumerate(metric_vals.values())])\n",
    "    avg_accs.append(avg_acc)\n",
    "    print(avg_acc)\n",
    "    \n",
    "    best_feats = [np.array(l[1])[best_feat_mask[j]] for j,l in enumerate(metric_vals.values())]\n",
    "    best_feat_pairs.extend([list(pair) for arr in best_feats for pair in arr])"
   ]
  },
  {
   "cell_type": "code",
   "execution_count": 335,
   "metadata": {},
   "outputs": [],
   "source": [
    "pickle.dump([avg_accs, best_feat_pairs], open(\"abs_dist_data_time_90.p\", \"wb\"))"
   ]
  },
  {
   "cell_type": "code",
   "execution_count": 336,
   "metadata": {},
   "outputs": [],
   "source": [
    "avg_accs_plateau, best_feat_pairs_plateau = pickle.load(open(\"abs_dist_data_plateau.p\", \"rb\" ))\n",
    "avg_accs_time_90, best_feat_pairs_time_90 = pickle.load(open(\"abs_dist_data_time_90.p\", \"rb\" ))"
   ]
  },
  {
   "cell_type": "code",
   "execution_count": 337,
   "metadata": {},
   "outputs": [
    {
     "data": {
      "image/png": "[encoded data removed]",
      "text/plain": [
       "<Figure size 720x288 with 1 Axes>"
      ]
     },
     "metadata": {
      "needs_background": "light"
     },
     "output_type": "display_data"
    }
   ],
   "source": [
    "plt.figure(figsize=(10,4))\n",
    "plt.hist(avg_accs_plateau, bins=20, edgecolor='k', density=True)\n",
    "plt.xlabel('Accuracy', fontsize=16)\n",
    "plt.ylabel('Density', fontsize=16)\n",
    "\n",
    "plt.xticks(np.arange(0.62,.74,.02), fontsize=14)\n",
    "plt.yticks(np.arange(0,20,2.5), fontsize=14)\n",
    "\n",
    "plt.axvline(np.mean(avg_accs_plateau), linestyle='--', color='r')\n",
    "plt.tight_layout()\n",
    "plt.savefig('acc_plateau.png')"
   ]
  },
  {
   "cell_type": "code",
   "execution_count": 338,
   "metadata": {},
   "outputs": [
    {
     "data": {
      "image/png": "[encoded data removed]",
      "text/plain": [
       "<Figure size 720x288 with 1 Axes>"
      ]
     },
     "metadata": {
      "needs_background": "light"
     },
     "output_type": "display_data"
    }
   ],
   "source": [
    "plt.figure(figsize=(10,4))\n",
    "plt.hist(avg_accs_time_90, bins=20, edgecolor='k', density=True)\n",
    "plt.xlabel('Accuracy', fontsize=16)\n",
    "plt.ylabel('Density', fontsize=16)\n",
    "\n",
    "plt.xticks(np.arange(0.62,.74,.02), fontsize=14)\n",
    "plt.yticks(np.arange(0,30,5), fontsize=14)\n",
    "\n",
    "plt.axvline(np.mean(avg_accs_time_90), linestyle='--', color='r')\n",
    "plt.tight_layout()\n",
    "plt.savefig('acc_time_90.png')"
   ]
  },
  {
   "cell_type": "code",
   "execution_count": 339,
   "metadata": {},
   "outputs": [
    {
     "data": {
      "text/plain": [
       "[(('green', 'num_chars'), 0.025027502750275044),\n",
       " (('red', 'pct_edges'), 0.02392739273927394),\n",
       " (('blue', 'duration'), 0.02310231023102311),\n",
       " (('green', 'duration'), 0.02117711771177118),\n",
       " (('has_text', 'duration'), 0.020627062706270627)]"
      ]
     },
     "execution_count": 339,
     "metadata": {},
     "output_type": "execute_result"
    }
   ],
   "source": [
    "d_pairs = {}\n",
    "for pair in best_feat_pairs_plateau:\n",
    "    if tuple(pair) in d_pairs:\n",
    "        d_pairs[tuple(pair)] += 1 / len(best_feat_pairs)\n",
    "    else:\n",
    "        d_pairs[tuple(pair)] = 1 / len(best_feat_pairs)\n",
    "        \n",
    "sorted(d_pairs.items(), key=lambda x: -x[1])[:5]"
   ]
  },
  {
   "cell_type": "code",
   "execution_count": 340,
   "metadata": {},
   "outputs": [
    {
     "data": {
      "text/plain": [
       "[(('red', 'duration'), 0.036028602860286085),\n",
       " (('red', 'blue'), 0.030528052805280564),\n",
       " (('green', 'hours_since_last_vid'), 0.028877887788778908),\n",
       " (('red', 'num_chars'), 0.027227722772277252),\n",
       " (('num_words', 'duration'), 0.026127612761276148)]"
      ]
     },
     "execution_count": 340,
     "metadata": {},
     "output_type": "execute_result"
    }
   ],
   "source": [
    "d_pairs = {}\n",
    "for pair in best_feat_pairs_time_90:\n",
    "    if tuple(pair) in d_pairs:\n",
    "        d_pairs[tuple(pair)] += 1 / len(best_feat_pairs)\n",
    "    else:\n",
    "        d_pairs[tuple(pair)] = 1 / len(best_feat_pairs)\n",
    "        \n",
    "sorted(d_pairs.items(), key=lambda x: -x[1])[:5]"
   ]
  },
  {
   "cell_type": "code",
   "execution_count": 353,
   "metadata": {},
   "outputs": [
    {
     "name": "stderr",
     "output_type": "stream",
     "text": [
      "C:\\Users\\ritvik\\Anaconda3\\lib\\site-packages\\ipykernel_launcher.py:14: RuntimeWarning: divide by zero encountered in log\n",
      "  \n",
      "C:\\Users\\ritvik\\Anaconda3\\lib\\site-packages\\ipykernel_launcher.py:14: RuntimeWarning: invalid value encountered in double_scalars\n",
      "  \n",
      "C:\\Users\\ritvik\\Anaconda3\\lib\\site-packages\\ipykernel_launcher.py:46: RuntimeWarning: divide by zero encountered in true_divide\n",
      "C:\\Users\\ritvik\\Anaconda3\\lib\\site-packages\\ipykernel_launcher.py:46: RuntimeWarning: invalid value encountered in true_divide\n"
     ]
    }
   ],
   "source": [
    "metric = 'plateau'\n",
    "plateau_feats = ['green', 'num_chars']\n",
    "\n",
    "feature_pair_classifiers = run_cross_validation(10, 'abs', df_joined_valid, metric, plateau_feats)\n",
    "avg_feat_clf_plateau = np.mean(feature_pair_classifiers, axis=0)\n",
    "\n",
    "code_to_score_plateau = {'past_plateau=%s, %s=%s, %s=%s'%(k[0], plateau_feats[0], k[1], plateau_feats[1], k[2]):v for k,v in zip(all_keys, avg_feat_clf_plateau)}"
   ]
  },
  {
   "cell_type": "code",
   "execution_count": 354,
   "metadata": {},
   "outputs": [
    {
     "name": "stderr",
     "output_type": "stream",
     "text": [
      "C:\\Users\\ritvik\\Anaconda3\\lib\\site-packages\\ipykernel_launcher.py:46: RuntimeWarning: divide by zero encountered in true_divide\n",
      "C:\\Users\\ritvik\\Anaconda3\\lib\\site-packages\\ipykernel_launcher.py:46: RuntimeWarning: invalid value encountered in true_divide\n",
      "C:\\Users\\ritvik\\Anaconda3\\lib\\site-packages\\ipykernel_launcher.py:14: RuntimeWarning: divide by zero encountered in log\n",
      "  \n",
      "C:\\Users\\ritvik\\Anaconda3\\lib\\site-packages\\ipykernel_launcher.py:14: RuntimeWarning: invalid value encountered in double_scalars\n",
      "  \n"
     ]
    }
   ],
   "source": [
    "metric = 'time_90'\n",
    "time_90_feats = ['red', 'duration']\n",
    "\n",
    "feature_pair_classifiers = run_cross_validation(10, 'abs', df_joined_valid, metric, time_90_feats)\n",
    "avg_feat_clf_time_90 = np.mean(feature_pair_classifiers, axis=0)\n",
    "\n",
    "code_to_score_time_90 = {'past_time_90=%s, %s=%s, %s=%s'%(k[0], time_90_feats[0], k[1], time_90_feats[1], k[2]):v for k,v in zip(all_keys, avg_feat_clf_time_90)}"
   ]
  },
  {
   "cell_type": "code",
   "execution_count": 362,
   "metadata": {},
   "outputs": [
    {
     "data": {
      "text/plain": [
       "[('past_time_90=0, red=1, duration=1', 0.3474955745720515),\n",
       " ('past_time_90=1, red=0, duration=1', 0.5774455896448435),\n",
       " ('past_time_90=0, red=0, duration=1', 0.6961545745375017),\n",
       " ('past_time_90=0, red=0, duration=0', 1.1548903892043183),\n",
       " ('past_time_90=1, red=1, duration=1', 1.2703234600612252),\n",
       " ('past_time_90=1, red=1, duration=0', 1.6879733921282292),\n",
       " ('past_time_90=0, red=1, duration=0', 2.078668633799697),\n",
       " ('past_time_90=1, red=0, duration=0', 2.695601832686677)]"
      ]
     },
     "execution_count": 362,
     "metadata": {},
     "output_type": "execute_result"
    }
   ],
   "source": [
    "sorted(code_to_score_time_90.items(), key=lambda x: x[1])"
   ]
  },
  {
   "cell_type": "raw",
   "metadata": {},
   "source": [
    "If you want the 90th percentile time to be lower than the median:\n",
    "- if past video had an above median 90th percentile time, set red low and duration high\n",
    "- is past video has a below median 90th percentile time, set red high and duration high"
   ]
  },
  {
   "cell_type": "code",
   "execution_count": 363,
   "metadata": {},
   "outputs": [
    {
     "data": {
      "text/plain": [
       "[('past_plateau=1, green=1, num_chars=0', 1.7249114371708778),\n",
       " ('past_plateau=0, green=1, num_chars=1', 1.4028648271567767),\n",
       " ('past_plateau=1, green=1, num_chars=1', 1.247811175994934),\n",
       " ('past_plateau=0, green=0, num_chars=1', 1.2476432860916935),\n",
       " ('past_plateau=1, green=0, num_chars=1', 1.0738806246009847),\n",
       " ('past_plateau=0, green=0, num_chars=0', 0.7498003953200255),\n",
       " ('past_plateau=1, green=0, num_chars=0', 0.691716548797532),\n",
       " ('past_plateau=0, green=1, num_chars=0', 0.5627254800500961)]"
      ]
     },
     "execution_count": 363,
     "metadata": {},
     "output_type": "execute_result"
    }
   ],
   "source": [
    "sorted(code_to_score_plateau.items(), key=lambda x: -x[1])"
   ]
  },
  {
   "cell_type": "raw",
   "metadata": {},
   "source": [
    "If you want the plateau to be higher than the median:\n",
    "- if past video had an above median plateau, set green high and num characters low\n",
    "- if past video had a below median plateau, set green high and num characters high"
   ]
  },
  {
   "cell_type": "markdown",
   "metadata": {},
   "source": [
    "# Some additional graphs for report"
   ]
  },
  {
   "cell_type": "code",
   "execution_count": 65,
   "metadata": {},
   "outputs": [],
   "source": [
    "data = execute_query('SELECT Timestamp, Views, Likes, Dislikes, Comments FROM VideoStats WHERE VideoID = \"9sn033Kj1zE\" ORDER BY Timestamp ASC', True)"
   ]
  },
  {
   "cell_type": "code",
   "execution_count": 66,
   "metadata": {},
   "outputs": [],
   "source": [
    "ts = [datetime.strptime(item[0][:13], '%Y-%m-%d %H') for item in data]\n",
    "views = [item[1] for item in data]\n",
    "likes = [item[2] for item in data]\n",
    "dislikes = [item[3] for item in data]\n",
    "comments = [item[4] for item in data]"
   ]
  },
  {
   "cell_type": "code",
   "execution_count": 67,
   "metadata": {},
   "outputs": [
    {
     "data": {
      "image/png": "[encoded data removed]",
      "text/plain": [
       "<Figure size 720x576 with 4 Axes>"
      ]
     },
     "metadata": {
      "needs_background": "light"
     },
     "output_type": "display_data"
    }
   ],
   "source": [
    "plt.figure(figsize=(10,8))\n",
    "\n",
    "plt.subplot(4,1,1)\n",
    "plt.plot(ts, views)\n",
    "plt.xticks([datetime(2020,8,i) for i in range(1,30,4)], fontsize=12, rotation=15)\n",
    "plt.yticks(np.arange(100000,300000,100000), fontsize=12)\n",
    "plt.ylabel('Views', fontsize=16)\n",
    "plt.title('Time Series for Video:\\n\"Behind The Camera | Happy 5th Birthday, Tasty!\"\\n', fontsize=20)\n",
    "\n",
    "plt.subplot(4,1,2)\n",
    "plt.plot(ts, comments)\n",
    "plt.xticks([datetime(2020,8,i) for i in range(1,30,4)], fontsize=12, rotation=15)\n",
    "plt.yticks(np.arange(200,1200,200), fontsize=12)\n",
    "plt.ylabel('Comments', fontsize=16)\n",
    "\n",
    "plt.subplot(4,1,3)\n",
    "plt.plot(ts, likes)\n",
    "plt.xticks([datetime(2020,8,i) for i in range(1,30,4)], fontsize=12, rotation=15)\n",
    "plt.yticks(np.arange(5000,15000,5000), fontsize=12)\n",
    "plt.ylabel('Likes', fontsize=16)\n",
    "\n",
    "plt.subplot(4,1,4)\n",
    "plt.plot(ts, dislikes)\n",
    "plt.xticks([datetime(2020,8,i) for i in range(1,30,4)], fontsize=12, rotation=15)\n",
    "plt.yticks(np.arange(50,200,50), fontsize=12)\n",
    "plt.ylabel('Dislikes', fontsize=16)\n",
    "\n",
    "plt.tight_layout()\n",
    "\n",
    "plt.savefig('example_time_series.png')"
   ]
  },
  {
   "cell_type": "code",
   "execution_count": null,
   "metadata": {},
   "outputs": [],
   "source": []
  }
 ],
 "metadata": {
  "kernelspec": {
   "display_name": "Python 3",
   "language": "python",
   "name": "python3"
  },
  "language_info": {
   "codemirror_mode": {
    "name": "ipython",
    "version": 3
   },
   "file_extension": ".py",
   "mimetype": "text/x-python",
   "name": "python",
   "nbconvert_exporter": "python",
   "pygments_lexer": "ipython3",
   "version": "3.7.7"
  }
 },
 "nbformat": 4,
 "nbformat_minor": 4
}
